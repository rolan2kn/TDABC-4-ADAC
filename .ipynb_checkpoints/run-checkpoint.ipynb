{
 "cells": [
  {
   "cell_type": "code",
   "execution_count": 1,
   "metadata": {},
   "outputs": [],
   "source": [
    "import sys\n",
    "\n",
    "proj_path = 'TDABC-4-ADAC'\n",
    "sys.path.append(proj_path)"
   ]
  },
  {
   "cell_type": "code",
   "execution_count": 9,
   "metadata": {},
   "outputs": [],
   "source": [
    "from testing_tools.test_krnn_rocauc import TestKRNN_ROCAUC\n",
    "from dataset_tools.dataset_types import DatasetTypeHandler\n",
    "import random"
   ]
  },
  {
   "cell_type": "code",
   "execution_count": 12,
   "metadata": {},
   "outputs": [
    {
     "name": "stdout",
     "output_type": "stream",
     "text": [
      "ERROR global: [Errno 2] No such file or directory: './docs/ADAC_TDABC_RESULTS/IRIS/22.02.02_22.59.53//registro.log'\n"
     ]
    }
   ],
   "source": [
    "kwargs = {\"option\": 3,\n",
    "                  \"dtype\": DatasetTypeHandler.KRNN,\n",
    "                  \"folder\": \"./docs/ADAC_TDABC_RESULTS\",\n",
    "                  \"iterations\": 0,\n",
    "                  \"number_of_datasets\": 16,\n",
    "                  \"csv_output\": True, \"can_i_show\":True,\n",
    "                  \"metric\": \"euclidean\"}\n",
    "\n",
    "TestKRNN_ROCAUC().execute(**kwargs)"
   ]
  },
  {
   "cell_type": "code",
   "execution_count": 4,
   "metadata": {},
   "outputs": [
    {
     "data": {
      "text/plain": [
       "'/home/rolo/anaconda3/envs/gudhi_env/lib/python3.8/site-packages/docs/CLASSIFIER_EVALUATION//22.02.02__22.40.08_TEST_image.png'"
      ]
     },
     "execution_count": 4,
     "metadata": {},
     "output_type": "execute_result"
    }
   ],
   "source": []
  },
  {
   "cell_type": "code",
   "execution_count": null,
   "metadata": {},
   "outputs": [],
   "source": []
  }
 ],
 "metadata": {
  "kernelspec": {
   "display_name": "Python 3",
   "language": "python",
   "name": "python3"
  },
  "language_info": {
   "codemirror_mode": {
    "name": "ipython",
    "version": 3
   },
   "file_extension": ".py",
   "mimetype": "text/x-python",
   "name": "python",
   "nbconvert_exporter": "python",
   "pygments_lexer": "ipython3",
   "version": "3.8.5"
  }
 },
 "nbformat": 4,
 "nbformat_minor": 2
}
